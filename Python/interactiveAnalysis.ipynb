{
 "cells": [
  {
   "cell_type": "code",
   "execution_count": 1,
   "metadata": {
    "collapsed": true
   },
   "outputs": [],
   "source": [
    "import sys\n",
    "from os import path\n",
    "sys.path.append( path.join(path.realpath('.'), '../../../MCP') )\n",
    "from math import pi\n",
    "import numpy as np\n",
    "import matplotlib.pyplot as plt\n",
    "import MonteCarlo as mc\n",
    "from numpy.linalg import norm\n",
    "from numpy import percentile\n",
    "import MonteCarloAnalysis as mca\n",
    "#%matplotlib inline"
   ]
  },
  {
   "cell_type": "code",
   "execution_count": 2,
   "metadata": {
    "collapsed": false
   },
   "outputs": [
    {
     "name": "stdout",
     "output_type": "stream",
     "text": [
      "Loading Monte Carlo data from ./data/lhs_twoSwitch\n",
      "Pickle Loading Time: 0.13 s\n",
      "Loaded 500 samples.\n",
      "Class Loading Time: 0.00\n",
      "Total Elapsed Time: 0.14 s\n",
      "\n",
      "Loading Monte Carlo data from ./data/lhs_threeSwitch\n",
      "Pickle Loading Time: 0.12 s\n",
      "Loaded 500 samples.\n",
      "Class Loading Time: 0.00\n",
      "Total Elapsed Time: 0.12 s\n",
      "\n"
     ]
    }
   ],
   "source": [
    "Data2 = mc.MonteCarloData(loadFile = './data/lhs_twoSwitch')\n",
    "Data3 = mc.MonteCarloData(loadFile = './data/lhs_threeSwitch')\n",
    "Data = [Data2,Data3]"
   ]
  },
  {
   "cell_type": "code",
   "execution_count": 3,
   "metadata": {
    "collapsed": false
   },
   "outputs": [],
   "source": [
    "pairs = [('altitude','Final'),('velocity','Final'),('longitude','Final'),('latitude','Final'),\n",
    "         ('DR','Final'),('CR','Final')]"
   ]
  },
  {
   "cell_type": "code",
   "execution_count": 4,
   "metadata": {
    "collapsed": false
   },
   "outputs": [],
   "source": [
    "mca.jointPlot(Data2,('longitude','Final'),('latitude','Final'),draw_ellipse_boundary=False,draw_marginal_histogram=False)\n",
    "mca.jointPlot(Data3,('longitude','Final'),('latitude','Final'),draw_ellipse_boundary=False,draw_marginal_histogram=False)\n",
    "\n",
    "mca.jointPlot(Data2,('CR','Final'),('DR','Final'),('altitude','Final'),draw_ellipse_boundary=False,draw_marginal_histogram=False)\n",
    "mca.jointPlot(Data3,('CR','Final'),('DR','Final'),('altitude','Final'),draw_ellipse_boundary=False,draw_marginal_histogram=False)"
   ]
  },
  {
   "cell_type": "code",
   "execution_count": 5,
   "metadata": {
    "collapsed": false
   },
   "outputs": [],
   "source": [
    "mca.jointPlot(Data2,('velocity','Final'),('altitude','Final'),draw_marginal_histogram=True)\n",
    "mca.jointPlot(Data3,('velocity','Final'),('altitude','Final'),draw_marginal_histogram=True)"
   ]
  }
 ],
 "metadata": {
  "kernelspec": {
   "display_name": "Python 2",
   "language": "python",
   "name": "python2"
  },
  "language_info": {
   "codemirror_mode": {
    "name": "ipython",
    "version": 2
   },
   "file_extension": ".py",
   "mimetype": "text/x-python",
   "name": "python",
   "nbconvert_exporter": "python",
   "pygments_lexer": "ipython2",
   "version": "2.7.10"
  }
 },
 "nbformat": 4,
 "nbformat_minor": 0
}
